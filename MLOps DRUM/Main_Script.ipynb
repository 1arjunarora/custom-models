{
 "cells": [
  {
   "source": [
    "<a href=\"https://colab.research.google.com/github/datarobot-community/mlops-examples/blob/master/MLOps20DRUM/Main_Script.ipynb\" target=\"_parent\"><img src=\"https://colab.research.google.com/assets/colab-badge.svg\" alt=\"Open In Colab\"/></a>"
   ],
   "cell_type": "markdown",
   "metadata": {}
  },
  {
   "cell_type": "markdown",
   "metadata": {},
   "source": [
    "## Using MLOps DRUM to test your custom models\n",
    "**Author**: Matthew Cohen\n",
    "\n",
    "#### Scope\n",
    "The scope of this Notebook is to provide examples for using the MLOps DRUM library to test your custom model locally. \n",
    "\n",
    "This includes an example for both a regression and binary classification example:\n",
    "1. Create a new random foreset models\n",
    "1. Implement a function in custom.py to do additional prediction request pre/post processing\n",
    "1. Validate they stand up to errors in input data\n",
    "1. Request predictions with a test dataset\n",
    "\n",
    "There are also examples to: \n",
    "- Test batch predictions\n",
    "- Run drum as a web service\n",
    "- Train a custom model\n"
   ]
  },
  {
   "cell_type": "code",
   "execution_count": null,
   "metadata": {},
   "outputs": [],
   "source": [
    "#Clone the repository\n",
    "!git clone https://github.com/datarobot-community/mlops-examples"
   ]
  },
  {
   "cell_type": "code",
   "execution_count": null,
   "metadata": {},
   "outputs": [],
   "source": [
    "!pip install -r /content/mlops-examples/'MLOps DRUM'/requirements.txt"
   ]
  },
  {
   "cell_type": "code",
   "execution_count": 1,
   "metadata": {},
   "outputs": [],
   "source": [
    "import pandas as pd\n",
    "import numpy as np\n",
    "import os\n",
    "from sklearn.svm import SVR\n",
    "from sklearn.ensemble import RandomForestRegressor\n",
    "from sklearn.ensemble import RandomForestClassifier\n",
    "from sklearn.metrics import accuracy_score\n",
    "import pickle"
   ]
  },
  {
   "cell_type": "markdown",
   "metadata": {},
   "source": [
    "## Train a regression model\n",
    "\n",
    "A simple RandomForestRegressor to predict house prices in Boston."
   ]
  },
  {
   "cell_type": "code",
   "execution_count": 2,
   "metadata": {},
   "outputs": [
    {
     "output_type": "execute_result",
     "data": {
      "text/plain": [
       "array([25.82 , 21.722, 34.747, 33.971, 35.756, 26.917, 21.962, 23.533,\n",
       "       16.948])"
      ]
     },
     "metadata": {},
     "execution_count": 2
    }
   ],
   "source": [
    "# Read the train and test data\n",
    "TRAIN_DATA_REG = \"/content/mlops-examples/MLOps DRUM/data/boston_housing_train.csv\"  # 14 features\n",
    "TEST_DATA_REG = \"/content/mlops-examples/MLOps DRUM/data/boston_housing_test.csv\"  # 13 features - target is removed\n",
    "\n",
    "reg_X_train = pd.read_csv(TRAIN_DATA_REG)\n",
    "reg_Y_train = reg_X_train.pop('MEDV')\n",
    "\n",
    "reg_X_test = pd.read_csv(TEST_DATA_REG)\n",
    "\n",
    "# Fit the model\n",
    "reg_rf_model = RandomForestRegressor()\n",
    "reg_rf_model.fit(reg_X_train, reg_Y_train)\n",
    "\n",
    "# Pickle the file and write it to the file system\n",
    "with open(\"/content/mlops-examples/MLOps DRUM/custom_model_reg/reg_rf_model.pkl\", 'wb') as pkl:\n",
    "    pickle.dump(reg_rf_model, pkl)\n",
    "    \n",
    "# Call predict to confirm it works\n",
    "reg_rf_model.predict(reg_X_test)"
   ]
  },
  {
   "cell_type": "markdown",
   "metadata": {},
   "source": [
    "## Generate the model template file for any additional pipeline processing\n",
    "\n",
    "This file, custom.py, is optional but allows you to insert additional processing steps into the flow of getting predictions.  The following functions are available:\n",
    "\n",
    "* init\n",
    "* load_model\n",
    "* transform\n",
    "* score\n",
    "* post_process\n",
    "\n",
    "Place the file in the location specified by the --code-dir argument.  For this example, you must edit the transform function in custom.py to impute any null values to 0.  Please see the comments in custom.py for further description information of each function."
   ]
  },
  {
   "cell_type": "markdown",
   "metadata": {},
   "source": [
    "## Validate the regression model can handle data with errors\n",
    "\n",
    "The validation check takes the input file and alters it to test various fail conditions, such as setting column values to null.  For this example, you must edit the transform function in custom.py to impute any null values to 0."
   ]
  },
  {
   "cell_type": "code",
   "execution_count": null,
   "metadata": {
    "scrolled": true,
    "tags": []
   },
   "outputs": [],
   "source": [
    "!drum validation --code-dir /content/mlops-examples/'MLOps DRUM'/custom_model_reg --input /content/mlops-examples/'MLOps DRUM'/data/boston_housing_test.csv --target-type regression"
   ]
  },
  {
   "cell_type": "markdown",
   "metadata": {},
   "source": [
    "## Test the regression model can return predictions \n",
    "\n",
    "Input the prediction dataset that includes all features except the target feature."
   ]
  },
  {
   "cell_type": "code",
   "execution_count": 11,
   "metadata": {},
   "outputs": [
    {
     "output_type": "stream",
     "name": "stdout",
     "text": [
      "Detected score mode\n",
      "Detected /Users/thodoris.petropoulos/github/mlops-examples-wip/MLOps DRUM/custom_model_reg/custom.py .. trying to load hooks\n",
      "\u001b[32m \u001b[0m\n",
      "\u001b[32m \u001b[0m\n",
      "\u001b[32m============================================================\u001b[0m\n",
      "\u001b[32mComponent: generic_predictor\u001b[0m\n",
      "\u001b[32mLanguage:  Python\u001b[0m\n",
      "\u001b[32mOutput:\u001b[0m\n",
      "\u001b[32m------------------------------------------------------------\u001b[0m\n",
      "\u001b[32m------------------------------------------------------------\u001b[0m\n",
      "\u001b[32mRuntime:    0.0 sec\u001b[0m\n",
      "\u001b[32mNR outputs: 0\u001b[0m\n",
      "\u001b[32m============================================================\u001b[0m\n",
      "\u001b[32m \u001b[0m\n"
     ]
    }
   ],
   "source": [
    "!drum score --code-dir /content/mlops-examples/'MLOps DRUM'/custom_model_reg --input /content/mlops-examples/'MLOps DRUM'/data/boston_housing_test.csv  --target-type regression--output cmrunner_test_pred_results.csv --verbose"
   ]
  },
  {
   "cell_type": "markdown",
   "metadata": {},
   "source": [
    "## Testing model performance\n",
    "\n",
    "Use this to asses model response time for prediction requests."
   ]
  },
  {
   "cell_type": "code",
   "execution_count": 15,
   "metadata": {
    "scrolled": true
   },
   "outputs": [
    {
     "output_type": "stream",
     "name": "stdout",
     "text": [
      "DRUM performance test\n",
      "Model:      /Users/thodoris.petropoulos/github/mlops-examples-wip/MLOps DRUM/custom_model_reg\n",
      "Data:       /Users/thodoris.petropoulos/github/mlops-examples-wip/MLOps DRUM/data/boston_housing_test.csv\n",
      "# Features: 13\n",
      "Preparing test data...\n",
      "\n",
      "\n",
      "\n",
      "Running test case with timeout: 180\n",
      "Running test case: 72 bytes - 1 samples, 100 iterations\n",
      "\u001b[KProcessing |################################| 100/100\n",
      "\u001b[?25hRunning test case with timeout: 180\n",
      "Running test case: 0.1MB - 1449 samples, 50 iterations\n",
      "\u001b[KProcessing |################################| 50/50\n",
      "\u001b[?25hRunning test case with timeout: 180\n",
      "Running test case: 10MB - 144964 samples, 5 iterations\n",
      "\u001b[KProcessing |################################| 5/5\n",
      "\u001b[?25hRunning test case with timeout: 180\n",
      "Running test case: 50MB - 724823 samples, 1 iterations\n",
      "\u001b[KProcessing |################################| 1/1\n",
      "\u001b[?25hTest is done stopping drum server\n",
      "\u001b[m\u001b[?7h\u001b[4l\u001b>\u001b7\u001b[r\u001b[?1;3;4;6l\u001b8\n",
      "  size     samples   iters    min     avg     max    used (MB)   total physical \n",
      "                                                                      (MB)      \n",
      "================================================================================\n",
      "72 bytes         1     100   0.015   0.018   0.052     138.949         16384.000\n",
      "0.1MB         1449      50   0.025   0.029   0.056     142.141         16384.000\n",
      "10MB        144964       5   1.007   1.017   1.025     168.105         16384.000\n",
      "50MB        724823       1   4.922   4.922   4.922     242.254         16384.000\n"
     ]
    }
   ],
   "source": [
    "!drum perf-test --code-dir /content/mlops-examples/'MLOps DRUM'/custom_model_reg --input /content/mlops-examples/'MLOps DRUM'/data/boston_housing_test.csv   --target-type regression"
   ]
  },
  {
   "cell_type": "markdown",
   "metadata": {},
   "source": [
    "## Prediction server mode\n",
    "\n",
    "The code below launchs drum as a server and stop program flow.  So to test that it responds to prediction requests, issue this command in a terminal shell or another notebook environment:\n",
    "\n",
    "curl -F \"X=@./data/boston_housing_test.csv\" localhost:6789/predict/"
   ]
  },
  {
   "cell_type": "code",
   "execution_count": 19,
   "metadata": {},
   "outputs": [],
   "source": [
    "!drum server --code-dir /content/mlops-examples/'MLOps DRUM'/custom_model_reg --target-type regression --address localhost:6789"
   ]
  },
  {
   "source": [
    "If you also want to see examples of fitting models using DRUM, see the examples [here](https://github.com/datarobot-community/mlops-examples/tree/master/Custom%20Model%20Examples/Readmissions)."
   ],
   "cell_type": "markdown",
   "metadata": {}
  },
  {
   "cell_type": "code",
   "execution_count": null,
   "metadata": {},
   "outputs": [],
   "source": []
  }
 ],
 "metadata": {
  "kernelspec": {
   "name": "python3",
   "display_name": "Python 3.7.0 64-bit ('mlops-agent': conda)",
   "metadata": {
    "interpreter": {
     "hash": "6999762ab742e621ae27dbfaf32885c230bbea1d76d099abab5ee780dc660bd9"
    }
   }
  },
  "language_info": {
   "codemirror_mode": {
    "name": "ipython",
    "version": 3
   },
   "file_extension": ".py",
   "mimetype": "text/x-python",
   "name": "python",
   "nbconvert_exporter": "python",
   "pygments_lexer": "ipython3",
   "version": "3.7.0-final"
  }
 },
 "nbformat": 4,
 "nbformat_minor": 2
}