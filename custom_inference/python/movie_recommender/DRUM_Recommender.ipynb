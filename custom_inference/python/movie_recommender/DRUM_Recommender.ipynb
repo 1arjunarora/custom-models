{
 "cells": [
  {
   "cell_type": "code",
   "execution_count": null,
   "metadata": {},
   "outputs": [],
   "source": []
  },
  {
   "cell_type": "code",
   "execution_count": null,
   "metadata": {},
   "outputs": [],
   "source": [
    "!pip install -U --no-deps datarobot-drum\n",
    "!pip install datarobot\n",
    "!pip install PyYAML\n",
    "!pip install strictyaml\n",
    "!pip install memory_profiler\n",
    "!pip install flask\n",
    "!pip install -U --no-deps mlpiper\n",
    "!pip install future\n",
    "!pip install py4j\n",
    "!pip install progress\n",
    "!pip install texttable\n",
    "!pip install docker\n",
    "!pip install pyarrow\n",
    "!pip install argcomplete\n",
    "!pip install termcolor\n",
    "!pip install tensorflow"
   ]
  },
  {
   "cell_type": "code",
   "execution_count": 1,
   "metadata": {},
   "outputs": [],
   "source": [
    "import pandas as pd\n",
    "import numpy as np\n",
    "from zipfile import ZipFile\n",
    "import tensorflow as tf\n",
    "from tensorflow import keras\n",
    "from tensorflow.keras import layers\n",
    "from pathlib import Path\n",
    "import io"
   ]
  },
  {
   "cell_type": "code",
   "execution_count": null,
   "metadata": {},
   "outputs": [],
   "source": []
  },
  {
   "cell_type": "markdown",
   "metadata": {},
   "source": [
    "## DRUM"
   ]
  },
  {
   "cell_type": "code",
   "execution_count": 2,
   "metadata": {},
   "outputs": [
    {
     "name": "stdout",
     "output_type": "stream",
     "text": [
      "drum 1.4.8\n"
     ]
    }
   ],
   "source": [
    "!drum --version"
   ]
  },
  {
   "cell_type": "code",
   "execution_count": 3,
   "metadata": {},
   "outputs": [
    {
     "name": "stdout",
     "output_type": "stream",
     "text": [
      "usage: drum [-h] [--version]\n",
      "            {score,fit,perf-test,validation,server,new,push} ...\n",
      "\n",
      "Run user model\n",
      "\n",
      "positional arguments:\n",
      "  {score,fit,perf-test,validation,server,new,push}\n",
      "                        Commands\n",
      "    score               Run predictions in batch mode\n",
      "    fit                 Fit your model to your data\n",
      "    perf-test           Run performance tests\n",
      "    validation          Run validation checks against the model\n",
      "    server              serve the model via REST APIs\n",
      "    new                 Create new model/env template\n",
      "    push                Add your modeling code into DataRobot\n",
      "\n",
      "optional arguments:\n",
      "  -h, --help            show this help message and exit\n",
      "  --version             show program's version number and exit\n"
     ]
    }
   ],
   "source": [
    "!drum --help"
   ]
  },
  {
   "cell_type": "code",
   "execution_count": null,
   "metadata": {},
   "outputs": [],
   "source": []
  },
  {
   "cell_type": "markdown",
   "metadata": {},
   "source": [
    "## Validate"
   ]
  },
  {
   "cell_type": "code",
   "execution_count": 4,
   "metadata": {},
   "outputs": [
    {
     "name": "stdout",
     "output_type": "stream",
     "text": [
      "2020-12-16 09:28:44.459442: I tensorflow/core/platform/cpu_feature_guard.cc:142] This TensorFlow binary is optimized with oneAPI Deep Neural Network Library (oneDNN)to use the following CPU instructions in performance-critical operations:  AVX2 FMA\n",
      "To enable them in other operations, rebuild TensorFlow with the appropriate compiler flags.\n",
      "2020-12-16 09:28:44.471850: I tensorflow/compiler/xla/service/service.cc:168] XLA service 0x7fe7a8ecbf00 initialized for platform Host (this does not guarantee that XLA will be used). Devices:\n",
      "2020-12-16 09:28:44.471877: I tensorflow/compiler/xla/service/service.cc:176]   StreamExecutor device (0): Host, Default Version\n",
      "movieId,title,genres\n",
      "279,My Family (1995),Drama\n",
      "848,\"Spitfire Grill, The (1996)\",Drama\n",
      "943,\"Ghost and Mrs. Muir, The (1947)\",Drama|Fantasy|Romance\n",
      "1464,Lost Highway (1997),Crime|Drama|Fantasy|Film-Noir|Mystery|Romance\n",
      "1681,Mortal Kombat: Annihilation (1997),Action|Adventure|Fantasy\n",
      "2660,\"Thing from Another World, The (1951)\",Horror|Sci-Fi\n",
      "2661,It Came from Outer Space (1953),Sci-Fi\n",
      "6382,Together (Han ni Zai Yiki) (2002),Drama\n",
      "34271,Hustle & Flow (2005),Crime|Drama\n",
      "39414,Shopgirl (2005),Comedy|Drama|Romance\n",
      "\n",
      "2020-12-16 09:28:47.914578: I tensorflow/core/platform/cpu_feature_guard.cc:142] This TensorFlow binary is optimized with oneAPI Deep Neural Network Library (oneDNN)to use the following CPU instructions in performance-critical operations:  AVX2 FMA\n",
      "To enable them in other operations, rebuild TensorFlow with the appropriate compiler flags.\n",
      "2020-12-16 09:28:47.926799: I tensorflow/compiler/xla/service/service.cc:168] XLA service 0x7fd4a31ee3e0 initialized for platform Host (this does not guarantee that XLA will be used). Devices:\n",
      "2020-12-16 09:28:47.926818: I tensorflow/compiler/xla/service/service.cc:176]   StreamExecutor device (0): Host, Default Version\n",
      "movieId,title,genres\n",
      "3599,Anchors Aweigh (1945),Comedy|Musical\n",
      "3604,Gypsy (1962),Musical\n",
      "3606,On the Town (1949),Comedy|Musical|Romance\n",
      "3608,Pee-wee's Big Adventure (1985),Adventure|Comedy\n",
      "27882,Riding Giants (2004),Documentary\n",
      "27899,What the #$*! Do We Know!? (a.k.a. What the Bleep Do We Know!?) (2004),Comedy|Documentary|Drama\n",
      "69134,Antichrist (2009),Drama|Fantasy\n",
      "69140,Sweeney Todd (2006),Crime|Drama|Horror|Thriller\n",
      "158956,Kill Command (2016),Action|Horror|Sci-Fi\n",
      "158966,Captain Fantastic (2016),Drama\n",
      "\n",
      "\n",
      "\n",
      "Validation checks results\n",
      "      Test case         Status\n",
      "==============================\n",
      "Null value imputation   PASSED\n"
     ]
    }
   ],
   "source": [
    "!drum validation --code-dir recommender_model \\\n",
    "--input predict.csv \\\n",
    "--target-type unstructured"
   ]
  },
  {
   "cell_type": "code",
   "execution_count": null,
   "metadata": {},
   "outputs": [],
   "source": []
  },
  {
   "cell_type": "markdown",
   "metadata": {},
   "source": [
    "## Score"
   ]
  },
  {
   "cell_type": "code",
   "execution_count": 5,
   "metadata": {},
   "outputs": [
    {
     "name": "stdout",
     "output_type": "stream",
     "text": [
      "2020-12-16 09:29:03.573565: I tensorflow/core/platform/cpu_feature_guard.cc:142] This TensorFlow binary is optimized with oneAPI Deep Neural Network Library (oneDNN)to use the following CPU instructions in performance-critical operations:  AVX2 FMA\n",
      "To enable them in other operations, rebuild TensorFlow with the appropriate compiler flags.\n",
      "2020-12-16 09:29:03.585352: I tensorflow/compiler/xla/service/service.cc:168] XLA service 0x7fc2cce4ba70 initialized for platform Host (this does not guarantee that XLA will be used). Devices:\n",
      "2020-12-16 09:29:03.585369: I tensorflow/compiler/xla/service/service.cc:176]   StreamExecutor device (0): Host, Default Version\n",
      "movieId,title,genres\n",
      "279,My Family (1995),Drama\n",
      "848,\"Spitfire Grill, The (1996)\",Drama\n",
      "943,\"Ghost and Mrs. Muir, The (1947)\",Drama|Fantasy|Romance\n",
      "1464,Lost Highway (1997),Crime|Drama|Fantasy|Film-Noir|Mystery|Romance\n",
      "1681,Mortal Kombat: Annihilation (1997),Action|Adventure|Fantasy\n",
      "2660,\"Thing from Another World, The (1951)\",Horror|Sci-Fi\n",
      "2661,It Came from Outer Space (1953),Sci-Fi\n",
      "6382,Together (Han ni Zai Yiki) (2002),Drama\n",
      "34271,Hustle & Flow (2005),Crime|Drama\n",
      "39414,Shopgirl (2005),Comedy|Drama|Romance\n",
      "\n"
     ]
    }
   ],
   "source": [
    "!drum score --code-dir recommender_model \\\n",
    "--input predict.csv \\\n",
    "--target-type unstructured"
   ]
  },
  {
   "cell_type": "code",
   "execution_count": null,
   "metadata": {},
   "outputs": [],
   "source": []
  }
 ],
 "metadata": {
  "kernelspec": {
   "display_name": "Python 3",
   "language": "python",
   "name": "python3"
  },
  "language_info": {
   "codemirror_mode": {
    "name": "ipython",
    "version": 3
   },
   "file_extension": ".py",
   "mimetype": "text/x-python",
   "name": "python",
   "nbconvert_exporter": "python",
   "pygments_lexer": "ipython3",
   "version": "3.7.4"
  }
 },
 "nbformat": 4,
 "nbformat_minor": 4
}
